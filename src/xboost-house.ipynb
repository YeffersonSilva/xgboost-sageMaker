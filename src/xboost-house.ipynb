{
 "cells": [
  {
   "cell_type": "code",
   "execution_count": null,
   "metadata": {},
   "outputs": [],
   "source": [
    "import pandas as pd\n",
    "import numpy as np\n",
    "base_casas = pd.read_csv('house_prices.csv')\n",
    "base_casas"
   ]
  },
  {
   "cell_type": "code",
   "execution_count": null,
   "metadata": {},
   "outputs": [],
   "source": [
    "base_casas.drop(columns = ['id', 'date', 'sqft_living15', 'sqft_lot15'], axis = 1, inplace = True)\n",
    "base_casas"
   ]
  },
  {
   "cell_type": "code",
   "execution_count": null,
   "metadata": {},
   "outputs": [],
   "source": [
    "base_treinamento = base_casas.iloc[0:15129,:]\n",
    "base_treinamento.shape"
   ]
  },
  {
   "cell_type": "code",
   "execution_count": null,
   "metadata": {},
   "outputs": [],
   "source": [
    "base_teste = base_casas.iloc[15129:,:]\n",
    "base_teste.shape"
   ]
  },
  {
   "cell_type": "code",
   "execution_count": null,
   "metadata": {},
   "outputs": [],
   "source": [
    "X_teste = base_teste.iloc[:,1:17].values\n",
    "X_teste"
   ]
  },
  {
   "cell_type": "code",
   "execution_count": null,
   "metadata": {},
   "outputs": [],
   "source": [
    "y_teste = base_teste.iloc[:, 0].values\n",
    "y_teste"
   ]
  },
  {
   "cell_type": "code",
   "execution_count": null,
   "metadata": {},
   "outputs": [],
   "source": [
    "base_treinamento.to_csv('house_prices_train_xgboost.csv', header = False, index = False)\n",
    "base_teste.to_csv('house_prices_test_xgboost.csv', header = False, index = False)"
   ]
  },
  {
   "cell_type": "markdown",
   "metadata": {},
   "source": [
    "# Configurações SageMaker"
   ]
  },
  {
   "cell_type": "code",
   "execution_count": null,
   "metadata": {},
   "outputs": [],
   "source": [
    "import sagemaker\n",
    "import boto3\n",
    "from sagemaker import Session"
   ]
  },
  {
   "cell_type": "code",
   "execution_count": null,
   "metadata": {},
   "outputs": [],
   "source": [
    "session = sagemaker.Session()\n",
    "bucket = 'cursoawssagemaker'\n",
    "subpasta_modelo = 'modelos/house-prices/xgboost'\n",
    "subpasta_dataset = 'datasets/house-prices'\n",
    "key_train = 'houses-train-data-xgboost'\n",
    "key_test = 'houses-test-data-xgboost'\n",
    "role = sagemaker.get_execution_role()\n",
    "s3_train_data = 's3://{}/{}/train/{}'.format(bucket, subpasta_dataset, key_train)\n",
    "s3_test_data = 's3://{}/{}/test/{}'.format(bucket, subpasta_dataset, key_test)\n",
    "output_location = 's3://{}/{}/output'.format(bucket, subpasta_modelo)\n",
    "print('Role: {}'.format(role))\n",
    "print('Localização da base de treinamento: {}'.format(s3_train_data))\n",
    "print('Localização da base de teste: {}'.format(s3_test_data))\n",
    "print('Modelo final será salvo em: {}'.format(output_location))"
   ]
  },
  {
   "cell_type": "code",
   "execution_count": null,
   "metadata": {},
   "outputs": [],
   "source": [
    "import os\n",
    "with open('house_prices_train_xgboost.csv', 'rb') as f:\n",
    "    boto3.Session().resource('s3').Bucket(bucket).Object(os.path.join(subpasta_dataset, 'train', key_train)).upload_fileobj(f)"
   ]
  },
  {
   "cell_type": "code",
   "execution_count": null,
   "metadata": {},
   "outputs": [],
   "source": [
    "with open('house_prices_test_xgboost.csv', 'rb') as f:\n",
    "    boto3.Session().resource('s3').Bucket(bucket).Object(os.path.join(subpasta_dataset, 'test', key_test)).upload_fileobj(f)"
   ]
  },
  {
   "cell_type": "markdown",
   "metadata": {},
   "source": [
    "# Treinamento do XGBoost"
   ]
  },
  {
   "cell_type": "code",
   "execution_count": null,
   "metadata": {},
   "outputs": [],
   "source": [
    "# https://docs.aws.amazon.com/sagemaker/latest/dg/ecr-sa-east-1.html\n",
    "from sagemaker import image_uris\n",
    "container = image_uris.retrieve(framework = 'xgboost', region=boto3.Session().region_name, version='latest')"
   ]
  },
  {
   "cell_type": "code",
   "execution_count": null,
   "metadata": {},
   "outputs": [],
   "source": [
    "# https://sagemaker.readthedocs.io/en/stable/api/training/estimators.html\n",
    "xgboost = sagemaker.estimator.Estimator(image_uri = container,\n",
    "                                        role = role,\n",
    "                                        instance_count = 1,\n",
    "                                        instance_type = 'ml.m5.2xlarge',\n",
    "                                        output_path = output_location,\n",
    "                                        sagemaker_session = session)"
   ]
  },
  {
   "cell_type": "code",
   "execution_count": null,
   "metadata": {},
   "outputs": [],
   "source": [
    "# https://docs.aws.amazon.com/sagemaker/latest/dg/xgboost_hyperparameters.html\n",
    "xgboost.set_hyperparameters(num_round = 100)"
   ]
  },
  {
   "cell_type": "code",
   "execution_count": null,
   "metadata": {},
   "outputs": [],
   "source": [
    "train_input = sagemaker.inputs.TrainingInput(s3_data = s3_train_data, content_type='csv', s3_data_type = 'S3Prefix')\n",
    "validation_input = sagemaker.inputs.TrainingInput(s3_data = s3_test_data, content_type='csv', s3_data_type = 'S3Prefix')\n",
    "data_channels = {'train': train_input, 'validation': validation_input}"
   ]
  },
  {
   "cell_type": "code",
   "execution_count": null,
   "metadata": {},
   "outputs": [],
   "source": [
    "xgboost.fit(data_channels)"
   ]
  }
 ],
 "metadata": {
  "language_info": {
   "name": "python"
  }
 },
 "nbformat": 4,
 "nbformat_minor": 2
}
